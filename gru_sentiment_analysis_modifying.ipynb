{
  "nbformat": 4,
  "nbformat_minor": 0,
  "metadata": {
    "colab": {
      "name": "gru_sentiment_analysis.ipynb의 사본",
      "provenance": [],
      "collapsed_sections": [],
      "toc_visible": true,
      "include_colab_link": true
    },
    "kernelspec": {
      "name": "python3",
      "display_name": "Python 3"
    },
    "accelerator": "TPU"
  },
  "cells": [
    {
      "cell_type": "markdown",
      "metadata": {
        "id": "view-in-github",
        "colab_type": "text"
      },
      "source": [
        "<a href=\"https://colab.research.google.com/github/musicjae/korean_sentiment_analysis/blob/master/gru_sentiment_analysis_modifying.ipynb\" target=\"_parent\"><img src=\"https://colab.research.google.com/assets/colab-badge.svg\" alt=\"Open In Colab\"/></a>"
      ]
    },
    {
      "cell_type": "markdown",
      "metadata": {
        "id": "nsRsiqqxO2i7"
      },
      "source": [
        "# References  \r\n",
        "[1] # https://www.programcreek.com/python/example/106388/torchtext.data.Field\r\n",
        "  \r\n",
        "[2] https://simonjisu.github.io/nlp/2018/07/18/torchtext.html   \r\n",
        "\r\n",
        "[3] https://wikidocs.net/44249\r\n"
      ]
    },
    {
      "cell_type": "code",
      "metadata": {
        "colab": {
          "base_uri": "https://localhost:8080/"
        },
        "id": "t7rbjiNAD6I0",
        "outputId": "75aa173a-8d3f-419c-9df4-6c78cb91672f"
      },
      "source": [
        "from google.colab import drive\r\n",
        "drive.mount('/content/drive')"
      ],
      "execution_count": null,
      "outputs": [
        {
          "output_type": "stream",
          "text": [
            "Mounted at /content/drive\n"
          ],
          "name": "stdout"
        }
      ]
    },
    {
      "cell_type": "markdown",
      "metadata": {
        "id": "WWqZN5fhFFdg"
      },
      "source": [
        "# Import"
      ]
    },
    {
      "cell_type": "code",
      "metadata": {
        "id": "V1MNifJfReWk",
        "colab": {
          "base_uri": "https://localhost:8080/"
        },
        "outputId": "41fc232a-c1ba-4826-b024-6a5b40bd27e6"
      },
      "source": [
        "!git clone https://github.com/e9t/nsmc.git"
      ],
      "execution_count": null,
      "outputs": [
        {
          "output_type": "stream",
          "text": [
            "Cloning into 'nsmc'...\n",
            "remote: Enumerating objects: 14763, done.\u001b[K\n",
            "remote: Total 14763 (delta 0), reused 0 (delta 0), pack-reused 14763\u001b[K\n",
            "Receiving objects: 100% (14763/14763), 56.19 MiB | 17.17 MiB/s, done.\n",
            "Resolving deltas: 100% (1749/1749), done.\n",
            "Checking out files: 100% (14737/14737), done.\n"
          ],
          "name": "stdout"
        }
      ]
    },
    {
      "cell_type": "code",
      "metadata": {
        "colab": {
          "base_uri": "https://localhost:8080/"
        },
        "id": "8z6APoj3FEq3",
        "outputId": "bf74fd18-a922-4ea9-d310-2bebb0d725da"
      },
      "source": [
        "!pip install konlpy"
      ],
      "execution_count": null,
      "outputs": [
        {
          "output_type": "stream",
          "text": [
            "Collecting konlpy\n",
            "\u001b[?25l  Downloading https://files.pythonhosted.org/packages/85/0e/f385566fec837c0b83f216b2da65db9997b35dd675e107752005b7d392b1/konlpy-0.5.2-py2.py3-none-any.whl (19.4MB)\n",
            "\u001b[K     |████████████████████████████████| 19.4MB 1.4MB/s \n",
            "\u001b[?25hCollecting tweepy>=3.7.0\n",
            "  Downloading https://files.pythonhosted.org/packages/67/c3/6bed87f3b1e5ed2f34bd58bf7978e308c86e255193916be76e5a5ce5dfca/tweepy-3.10.0-py2.py3-none-any.whl\n",
            "Collecting JPype1>=0.7.0\n",
            "\u001b[?25l  Downloading https://files.pythonhosted.org/packages/de/af/93f92b38ec1ff3091cd38982ed19cea2800fefb609b5801c41fc43c0781e/JPype1-1.2.1-cp36-cp36m-manylinux2010_x86_64.whl (457kB)\n",
            "\u001b[K     |████████████████████████████████| 460kB 43.0MB/s \n",
            "\u001b[?25hCollecting colorama\n",
            "  Downloading https://files.pythonhosted.org/packages/44/98/5b86278fbbf250d239ae0ecb724f8572af1c91f4a11edf4d36a206189440/colorama-0.4.4-py2.py3-none-any.whl\n",
            "Requirement already satisfied: numpy>=1.6 in /usr/local/lib/python3.6/dist-packages (from konlpy) (1.19.5)\n",
            "Collecting beautifulsoup4==4.6.0\n",
            "\u001b[?25l  Downloading https://files.pythonhosted.org/packages/9e/d4/10f46e5cfac773e22707237bfcd51bbffeaf0a576b0a847ec7ab15bd7ace/beautifulsoup4-4.6.0-py3-none-any.whl (86kB)\n",
            "\u001b[K     |████████████████████████████████| 92kB 10.0MB/s \n",
            "\u001b[?25hRequirement already satisfied: lxml>=4.1.0 in /usr/local/lib/python3.6/dist-packages (from konlpy) (4.2.6)\n",
            "Requirement already satisfied: requests[socks]>=2.11.1 in /usr/local/lib/python3.6/dist-packages (from tweepy>=3.7.0->konlpy) (2.23.0)\n",
            "Requirement already satisfied: requests-oauthlib>=0.7.0 in /usr/local/lib/python3.6/dist-packages (from tweepy>=3.7.0->konlpy) (1.3.0)\n",
            "Requirement already satisfied: six>=1.10.0 in /usr/local/lib/python3.6/dist-packages (from tweepy>=3.7.0->konlpy) (1.15.0)\n",
            "Requirement already satisfied: typing-extensions; python_version < \"3.8\" in /usr/local/lib/python3.6/dist-packages (from JPype1>=0.7.0->konlpy) (3.7.4.3)\n",
            "Requirement already satisfied: urllib3!=1.25.0,!=1.25.1,<1.26,>=1.21.1 in /usr/local/lib/python3.6/dist-packages (from requests[socks]>=2.11.1->tweepy>=3.7.0->konlpy) (1.24.3)\n",
            "Requirement already satisfied: chardet<4,>=3.0.2 in /usr/local/lib/python3.6/dist-packages (from requests[socks]>=2.11.1->tweepy>=3.7.0->konlpy) (3.0.4)\n",
            "Requirement already satisfied: idna<3,>=2.5 in /usr/local/lib/python3.6/dist-packages (from requests[socks]>=2.11.1->tweepy>=3.7.0->konlpy) (2.10)\n",
            "Requirement already satisfied: certifi>=2017.4.17 in /usr/local/lib/python3.6/dist-packages (from requests[socks]>=2.11.1->tweepy>=3.7.0->konlpy) (2020.12.5)\n",
            "Requirement already satisfied: PySocks!=1.5.7,>=1.5.6; extra == \"socks\" in /usr/local/lib/python3.6/dist-packages (from requests[socks]>=2.11.1->tweepy>=3.7.0->konlpy) (1.7.1)\n",
            "Requirement already satisfied: oauthlib>=3.0.0 in /usr/local/lib/python3.6/dist-packages (from requests-oauthlib>=0.7.0->tweepy>=3.7.0->konlpy) (3.1.0)\n",
            "Installing collected packages: tweepy, JPype1, colorama, beautifulsoup4, konlpy\n",
            "  Found existing installation: tweepy 3.6.0\n",
            "    Uninstalling tweepy-3.6.0:\n",
            "      Successfully uninstalled tweepy-3.6.0\n",
            "  Found existing installation: beautifulsoup4 4.6.3\n",
            "    Uninstalling beautifulsoup4-4.6.3:\n",
            "      Successfully uninstalled beautifulsoup4-4.6.3\n",
            "Successfully installed JPype1-1.2.1 beautifulsoup4-4.6.0 colorama-0.4.4 konlpy-0.5.2 tweepy-3.10.0\n"
          ],
          "name": "stdout"
        }
      ]
    },
    {
      "cell_type": "code",
      "metadata": {
        "id": "UQtc6m33FEXg"
      },
      "source": [
        "import pandas as pd\r\n",
        "from konlpy.tag import Okt\r\n",
        "from nltk import FreqDist\r\n",
        "import numpy as np\r\n",
        "from tqdm import tqdm\r\n",
        "import random\r\n",
        "import argparse\r\n",
        "import torch\r\n",
        "\r\n",
        "from torch.utils.data import Dataset, DataLoader\r\n",
        "import torch.nn as nn\r\n",
        "import torch\r\n",
        "from torchtext import data\r\n",
        "from torchtext.data import TabularDataset\r\n",
        "from torchtext.data import Iterator\r\n",
        "import warnings\r\n",
        "warnings.filterwarnings(action='ignore')\r\n",
        "\r\n",
        "from tensorflow.keras.preprocessing.text import Tokenizer\r\n",
        "from tensorflow.keras.preprocessing.sequence import pad_sequences\r\n",
        "\r\n",
        "import matplotlib.pyplot as plt\r\n",
        "from torch.utils.tensorboard import SummaryWriter\r\n",
        "\r\n",
        "# default `log_dir` is \"runs\" - we'll be more specific here\r\n",
        "writer = SummaryWriter('runs/fashion_mnist_experiment_1')"
      ],
      "execution_count": null,
      "outputs": []
    },
    {
      "cell_type": "code",
      "metadata": {
        "id": "GIG2wKZStY_F"
      },
      "source": [
        "random_seed=42\r\n",
        "torch.manual_seed(random_seed)\r\n",
        "torch.cuda.manual_seed(random_seed)\r\n",
        "#torch.cuda.manual_seed_all(random_seed) # if use multi-GPU\r\n",
        "#torch.backends.cudnn.deterministic = True\r\n",
        "torch.backends.cudnn.benchmark = False\r\n",
        "np.random.seed(random_seed)\r\n",
        "random.seed(random_seed)"
      ],
      "execution_count": null,
      "outputs": []
    },
    {
      "cell_type": "markdown",
      "metadata": {
        "id": "yYTNgov-4aF-"
      },
      "source": [
        "# 새 섹션"
      ]
    },
    {
      "cell_type": "markdown",
      "metadata": {
        "id": "zj3XN6MAGEMh"
      },
      "source": [
        "# args"
      ]
    },
    {
      "cell_type": "code",
      "metadata": {
        "id": "sevTnElHGE4R",
        "colab": {
          "base_uri": "https://localhost:8080/"
        },
        "outputId": "2220b5ba-c918-481d-ba74-ffebc8d12ba0"
      },
      "source": [
        "USE_CUDA = torch.cuda.is_available()\r\n",
        "print(USE_CUDA)\r\n",
        "\r\n",
        "device = torch.device('cuda:0' if USE_CUDA else 'cpu')\r\n",
        "print('학습을 진행하는 기기:',device)\r\n",
        "\r\n",
        "parser = argparse.ArgumentParser(description='hyperparameters.....')\r\n",
        "args = parser.parse_args(\"\")\r\n",
        "\r\n",
        "# =========== Training ============ #\r\n",
        "\r\n",
        "args.batch_size = 128\r\n",
        "args.epochs = 10\r\n",
        "args.lr = 1e-3\r\n",
        "args.eps = 1e-8\r\n",
        "args.hidden_dim = 64\r\n",
        "args.embbed_dim = 64\r\n",
        "args.n_classes = 1\r\n",
        "args.dropout_p = 0.2\r\n",
        "args.n_layers = 1\r\n",
        "args.patience = 10\r\n",
        "\r\n",
        "args.total_steps = 1055 * args.epochs  # 총 훈련 스텝 =  배치반복 횟수 * 에폭 where 1055 is len(train_loader)\r\n"
      ],
      "execution_count": null,
      "outputs": [
        {
          "output_type": "stream",
          "text": [
            "False\n",
            "학습을 진행하는 기기: cpu\n"
          ],
          "name": "stdout"
        }
      ]
    },
    {
      "cell_type": "markdown",
      "metadata": {
        "id": "S4J4_uCAFZUj"
      },
      "source": [
        "# Dataset"
      ]
    },
    {
      "cell_type": "code",
      "metadata": {
        "id": "E0luSOjaRlVb"
      },
      "source": [
        "train_dt = pd.read_csv(\"nsmc/ratings_train.txt\", sep='\\t')\r\n",
        "test_dt = pd.read_csv(\"nsmc/ratings_test.txt\", sep='\\t')\r\n",
        "\r\n",
        "train_path = 'nsmc/ratings_train.txt'\r\n",
        "test_path = 'nsmc/ratings_test.txt'"
      ],
      "execution_count": null,
      "outputs": []
    },
    {
      "cell_type": "markdown",
      "metadata": {
        "id": "IHzYV-RBUSYV"
      },
      "source": [
        "### Preprocessing"
      ]
    },
    {
      "cell_type": "code",
      "metadata": {
        "id": "5wKYwbShThfh"
      },
      "source": [
        "def preprocess(text):\r\n",
        "\r\n",
        "    text['document'] = text['document'].fillna(0)\r\n",
        "    text['document'] = text['document'].str.replace(pat = r'[^ ㄱ-ㅣ가-힣]+', repl=r' ', regex=True) # 한글을 제외한 나머지 제거\r\n",
        "    text['document'] = text['document'].str.replace(',','').astype(object)\r\n",
        "\r\n",
        "    return text\r\n",
        "\r\n",
        "train_dt = preprocess(train_dt)\r\n",
        "test_dt = preprocess(test_dt)"
      ],
      "execution_count": null,
      "outputs": []
    },
    {
      "cell_type": "code",
      "metadata": {
        "id": "Q0UFFeStRl8H",
        "colab": {
          "base_uri": "https://localhost:8080/"
        },
        "outputId": "2d8afe53-e5ef-4cdb-aab7-cde921c6f8d2"
      },
      "source": [
        "train_dt=train_dt[['document','label']]\r\n",
        "print(len(train_dt))\r\n",
        "test_dt=test_dt[['document','label']]"
      ],
      "execution_count": null,
      "outputs": [
        {
          "output_type": "stream",
          "text": [
            "150000\n"
          ],
          "name": "stdout"
        }
      ]
    },
    {
      "cell_type": "code",
      "metadata": {
        "id": "TQdb8_PaJYSg"
      },
      "source": [
        "train_y = train_dt.label\r\n",
        "test_y = test_dt.label"
      ],
      "execution_count": null,
      "outputs": []
    },
    {
      "cell_type": "code",
      "metadata": {
        "colab": {
          "base_uri": "https://localhost:8080/"
        },
        "id": "Wo6aZYEMcK_6",
        "outputId": "56a26527-1420-40a6-c6f7-a9b1da8714a8"
      },
      "source": [
        "len(test_y)"
      ],
      "execution_count": null,
      "outputs": [
        {
          "output_type": "execute_result",
          "data": {
            "text/plain": [
              "50000"
            ]
          },
          "metadata": {
            "tags": []
          },
          "execution_count": 10
        }
      ]
    },
    {
      "cell_type": "markdown",
      "metadata": {
        "id": "xV4TE00kUy7c"
      },
      "source": [
        "### Custom Dataset"
      ]
    },
    {
      "cell_type": "markdown",
      "metadata": {
        "id": "oPcxY9_b6X7J"
      },
      "source": [
        "#### Tokenizing"
      ]
    },
    {
      "cell_type": "code",
      "metadata": {
        "id": "TJTkgBpO23vx"
      },
      "source": [
        "tok = Okt()\r\n",
        "def preprocessing_sen(sen):\r\n",
        "    stopwords = ['의','가','이','은','들','는','좀','잘','걍','과','도','를','으로','자','에','와','한','하다']\r\n",
        "    result=[]\r\n",
        "\r\n",
        "    temp= tok.morphs(sen)\r\n",
        "    result.append(temp)\r\n",
        "\r\n",
        "    return result    "
      ],
      "execution_count": null,
      "outputs": []
    },
    {
      "cell_type": "code",
      "metadata": {
        "colab": {
          "base_uri": "https://localhost:8080/"
        },
        "id": "-nCcXjHt3woT",
        "outputId": "13b0f22a-6320-4e97-cf27-57c7845b6f1f"
      },
      "source": [
        "def preprocessing_entirity(df):\r\n",
        "    result = []\r\n",
        "    for sen in tqdm(df.document):\r\n",
        "        try:\r\n",
        "            result.append(preprocessing_sen(sen))\r\n",
        "        except:\r\n",
        "            result.append('NaN')\r\n",
        "\r\n",
        "    result = [x[0] for x in result]\r\n",
        "    return result\r\n",
        "\r\n",
        "processed_train = preprocessing_entirity(train_dt)\r\n",
        "processed_test = preprocessing_entirity(test_dt)"
      ],
      "execution_count": null,
      "outputs": [
        {
          "output_type": "stream",
          "text": [
            "100%|██████████| 150000/150000 [09:59<00:00, 250.16it/s]\n",
            "100%|██████████| 50000/50000 [03:43<00:00, 223.98it/s]\n"
          ],
          "name": "stderr"
        }
      ]
    },
    {
      "cell_type": "code",
      "metadata": {
        "colab": {
          "base_uri": "https://localhost:8080/"
        },
        "id": "bkkkLIANHwrA",
        "outputId": "34969ee0-bac5-4915-ca80-75f810af78a8"
      },
      "source": [
        "processed_train[0:2]"
      ],
      "execution_count": null,
      "outputs": [
        {
          "output_type": "execute_result",
          "data": {
            "text/plain": [
              "[['아', '더빙', '진짜', '짜증나네요', '목소리'],\n",
              " ['흠', '포스터', '보고', '초딩', '영화', '줄', '오버', '연기', '조차', '가볍지', '않구나']]"
            ]
          },
          "metadata": {
            "tags": []
          },
          "execution_count": 13
        }
      ]
    },
    {
      "cell_type": "code",
      "metadata": {
        "colab": {
          "base_uri": "https://localhost:8080/"
        },
        "id": "1XZb6hYpqdEb",
        "outputId": "568e4404-27b6-41e4-9750-1621f8fa28ee"
      },
      "source": [
        "processed_test[0:10]"
      ],
      "execution_count": null,
      "outputs": [
        {
          "output_type": "execute_result",
          "data": {
            "text/plain": [
              "[['굳', 'ㅋ'],\n",
              " [],\n",
              " ['뭐',\n",
              "  '야',\n",
              "  '이',\n",
              "  '평점',\n",
              "  '들',\n",
              "  '은',\n",
              "  '나쁘진',\n",
              "  '않지만',\n",
              "  '점',\n",
              "  '짜',\n",
              "  '리',\n",
              "  '는',\n",
              "  '더',\n",
              "  '더욱',\n",
              "  '아니잖아'],\n",
              " ['지루하지는', '않은데', '완전', '막장', '임', '돈', '주고', '보기', '에는'],\n",
              " ['만',\n",
              "  '아니었어도',\n",
              "  '별',\n",
              "  '다섯',\n",
              "  '개',\n",
              "  '줬을텐데',\n",
              "  '왜',\n",
              "  '로',\n",
              "  '나와서',\n",
              "  '제',\n",
              "  '심기',\n",
              "  '를',\n",
              "  '불편하게',\n",
              "  '하죠'],\n",
              " ['음악', '이', '주가', '된', '최고', '의', '음악', '영화'],\n",
              " ['진정한', '쓰레기'],\n",
              " ['마치',\n",
              "  '미국',\n",
              "  '애니',\n",
              "  '에서',\n",
              "  '튀어나온듯',\n",
              "  '한',\n",
              "  '창의력',\n",
              "  '없는',\n",
              "  '로봇',\n",
              "  '디자인',\n",
              "  '부터가',\n",
              "  '고개',\n",
              "  '를',\n",
              "  '젖게',\n",
              "  '한다'],\n",
              " ['갈수록',\n",
              "  '개판',\n",
              "  '되가는',\n",
              "  '중국영화',\n",
              "  '유치하고',\n",
              "  '내용',\n",
              "  '없음',\n",
              "  '폼',\n",
              "  '잡다',\n",
              "  '끝남',\n",
              "  '말',\n",
              "  '도',\n",
              "  '안되는',\n",
              "  '무기',\n",
              "  '에',\n",
              "  '유치한',\n",
              "  '남무',\n",
              "  '아',\n",
              "  '그립다',\n",
              "  '동사서독',\n",
              "  '같은',\n",
              "  '영화',\n",
              "  '가',\n",
              "  '이건',\n",
              "  '류',\n",
              "  '아',\n",
              "  '류작',\n",
              "  '이다'],\n",
              " ['이별',\n",
              "  '의',\n",
              "  '아픔',\n",
              "  '뒤',\n",
              "  '에',\n",
              "  '찾아오는',\n",
              "  '새로운',\n",
              "  '인연',\n",
              "  '의',\n",
              "  '기쁨',\n",
              "  '모든',\n",
              "  '사람',\n",
              "  '이',\n",
              "  '그렇지는',\n",
              "  '않네']]"
            ]
          },
          "metadata": {
            "tags": []
          },
          "execution_count": 55
        }
      ]
    },
    {
      "cell_type": "code",
      "metadata": {
        "id": "xVjZwh246W_z"
      },
      "source": [
        "tokenizer = Tokenizer()\r\n",
        "tokenizer.fit_on_texts(processed_train)\r\n",
        "#tokenizer.fit_on_texts(processed_test)"
      ],
      "execution_count": null,
      "outputs": []
    },
    {
      "cell_type": "code",
      "metadata": {
        "id": "Lb-8CDrlqnda"
      },
      "source": [
        "tokenizer.fit_on_texts(processed_test)"
      ],
      "execution_count": null,
      "outputs": []
    },
    {
      "cell_type": "code",
      "metadata": {
        "colab": {
          "base_uri": "https://localhost:8080/"
        },
        "id": "8hIRmm5Uqt-n",
        "outputId": "9eef68ac-07c7-4d8d-b9c7-15555acb3599"
      },
      "source": [
        "len(tokenizer.word_counts)"
      ],
      "execution_count": null,
      "outputs": [
        {
          "output_type": "execute_result",
          "data": {
            "text/plain": [
              "114516"
            ]
          },
          "metadata": {
            "tags": []
          },
          "execution_count": 63
        }
      ]
    },
    {
      "cell_type": "markdown",
      "metadata": {
        "id": "52JnrEoy7CHS"
      },
      "source": [
        " 각 정수는 전체 훈련 데이터에서 등장 빈도수가 높은 순서대로 부여되었기 때문에, 높은 정수가 부여된 단어들은 등장 빈도수가 매우 낮다는 것을 의미합니다. 여기서는 빈도수가 낮은 단어들은 자연어 처리에서 배제하고자 합니다. 등장 빈도수가 3회 미만인 단어들이 이 데이터에서 얼만큼의 비중을 차지하는지 확인해봅시다."
      ]
    },
    {
      "cell_type": "markdown",
      "metadata": {
        "id": "bFK65NtBHfRc"
      },
      "source": [
        "- 단어 집합(vocabulary)의 크기 : 97871\r\n",
        "  \r\n",
        "- 등장 빈도가 2번 이하인 희귀 단어의 수: 65669\r\n",
        "  \r\n",
        "- 단어 집합에서 희귀 단어의 비율: 67.09750590062428\r\n",
        "  \r\n",
        "- 전체 등장 빈도에서 희귀 단어 등장 빈도 비율: 4.108513935768472"
      ]
    },
    {
      "cell_type": "markdown",
      "metadata": {
        "id": "13e_4dUSK5xa"
      },
      "source": [
        "#### Dataset"
      ]
    },
    {
      "cell_type": "code",
      "metadata": {
        "id": "17hMjCuBIGhO"
      },
      "source": [
        "vocab_size= 97871-2"
      ],
      "execution_count": null,
      "outputs": []
    },
    {
      "cell_type": "code",
      "metadata": {
        "id": "hMXTS3jFIkod"
      },
      "source": [
        "train = tokenizer.texts_to_sequences(processed_train)\r\n",
        "test = tokenizer.texts_to_sequences(processed_test)"
      ],
      "execution_count": null,
      "outputs": []
    },
    {
      "cell_type": "code",
      "metadata": {
        "colab": {
          "base_uri": "https://localhost:8080/",
          "height": 315
        },
        "id": "1F0iOY7XOEZT",
        "outputId": "9b1d1d62-4d9c-44ea-9aaa-b0c0c28a6fe9"
      },
      "source": [
        "print('리뷰의 최대 길이 :',max(len(l) for l in train))\r\n",
        "print('리뷰의 평균 길이 :',sum(map(len, train))/len(train))\r\n",
        "plt.hist([len(s) for s in train], bins=50)\r\n",
        "plt.xlabel('length of samples')\r\n",
        "plt.ylabel('number of samples')\r\n",
        "plt.show()"
      ],
      "execution_count": null,
      "outputs": [
        {
          "output_type": "stream",
          "text": [
            "리뷰의 최대 길이 : 79\n",
            "리뷰의 평균 길이 : 12.767146666666667\n"
          ],
          "name": "stdout"
        },
        {
          "output_type": "display_data",
          "data": {
            "image/png": "[encoded data removed]",
            "text/plain": [
              "<Figure size 432x288 with 1 Axes>"
            ]
          },
          "metadata": {
            "tags": [],
            "needs_background": "light"
          }
        }
      ]
    },
    {
      "cell_type": "code",
      "metadata": {
        "colab": {
          "base_uri": "https://localhost:8080/"
        },
        "id": "zTQ9i8uBIo7a",
        "outputId": "46ec9f6b-d336-4788-a870-7c537aa77343"
      },
      "source": [
        "print(train[0:2])\r\n",
        "print(len(train))\r\n",
        "print(len(test))"
      ],
      "execution_count": null,
      "outputs": [
        {
          "output_type": "stream",
          "text": [
            "[[52, 435, 18, 6444, 627], [925, 445, 46, 581, 2, 201, 1465, 23, 939, 6445, 26099]]\n",
            "150000\n",
            "50000\n"
          ],
          "name": "stdout"
        }
      ]
    },
    {
      "cell_type": "markdown",
      "metadata": {
        "id": "zG4Wh093OG-G"
      },
      "source": [
        "#### Padding"
      ]
    },
    {
      "cell_type": "code",
      "metadata": {
        "id": "ApU32aNgOIEa"
      },
      "source": [
        "max_len = 30\r\n",
        "\r\n",
        "train_X = train\r\n",
        "eval_X = test[:25000]\r\n",
        "test_X = test[25000:]\r\n",
        "\r\n",
        "train_y = train_dt.label\r\n",
        "\r\n",
        "test_y = test_dt.label\r\n",
        "eval_y = test_y[:25000]\r\n",
        "test_y = test_y[25000:]\r\n",
        "\r\n",
        "train_X = pad_sequences(train_X, maxlen = max_len,padding='post')\r\n",
        "eval_X = pad_sequences(eval_X, maxlen=max_len,padding='post')\r\n",
        "test_X = pad_sequences(test_X, maxlen = max_len,padding='post')"
      ],
      "execution_count": null,
      "outputs": []
    },
    {
      "cell_type": "code",
      "metadata": {
        "id": "r8DpmHI1-Y_D"
      },
      "source": [
        "class mydataset(Dataset):\r\n",
        "\r\n",
        "    def __init__(self,X,y):\r\n",
        "        self.data = X\r\n",
        "        self.target = y\r\n",
        "       \r\n",
        "\r\n",
        "    def __getitem__(self, index):\r\n",
        "\r\n",
        "        x = self.data[index]\r\n",
        "        y = self.target[index]\r\n",
        "\r\n",
        "        return x,y\r\n",
        "\r\n",
        "    def __len__ (self):\r\n",
        "\r\n",
        "        return len(self.data)\r\n"
      ],
      "execution_count": null,
      "outputs": []
    },
    {
      "cell_type": "code",
      "metadata": {
        "id": "MjAWDkUK1v8T"
      },
      "source": [
        "ctrain_set = mydataset(train_X,train_y)\r\n",
        "ceval_set = mydataset(eval_X,eval_y)\r\n",
        "ctest_set = mydataset(test_X,test_y)"
      ],
      "execution_count": null,
      "outputs": []
    },
    {
      "cell_type": "code",
      "metadata": {
        "colab": {
          "base_uri": "https://localhost:8080/"
        },
        "id": "kkA0xdyx2CNZ",
        "outputId": "5ef2cc86-1536-4c13-be6a-d6e3a8fc1a21"
      },
      "source": [
        "train_loader = DataLoader(ctrain_set,args.batch_size,shuffle=True)\r\n",
        "eval_loader = DataLoader(ceval_set,args.batch_size)\r\n",
        "test_loader = DataLoader(ctest_set,1)\r\n",
        "\r\n",
        "print(len(train_loader.dataset))\r\n",
        "print(len(eval_loader.dataset))\r\n",
        "print(len(test_loader.dataset))"
      ],
      "execution_count": null,
      "outputs": [
        {
          "output_type": "stream",
          "text": [
            "150000\n",
            "25000\n",
            "25000\n"
          ],
          "name": "stdout"
        }
      ]
    },
    {
      "cell_type": "markdown",
      "metadata": {
        "id": "sZ4OuHTVL7lt"
      },
      "source": [
        "# Model"
      ]
    },
    {
      "cell_type": "code",
      "metadata": {
        "id": "za-pS2SSL8Ur",
        "colab": {
          "base_uri": "https://localhost:8080/"
        },
        "outputId": "02abf1e4-ad27-46e2-e721-3f7b2a1d8c18"
      },
      "source": [
        "vocab_size = len(ctrain_set)\r\n",
        "\r\n",
        "\r\n",
        "class GRU(nn.Module):\r\n",
        "    def __init__(self, n_layers, hidden_dim, n_vocab, embed_dim, n_classes, dropout_p=0.2):\r\n",
        "        super(GRU, self).__init__()\r\n",
        "        self.n_layers = n_layers\r\n",
        "        self.hidden_dim = hidden_dim\r\n",
        "\r\n",
        "        self.embed = nn.Embedding(n_vocab, embed_dim)\r\n",
        "        self.dropout = nn.Dropout(dropout_p)\r\n",
        "        self.gru = nn.GRU(embed_dim, self.hidden_dim,\r\n",
        "                          num_layers=self.n_layers,\r\n",
        "                          batch_first=True)\r\n",
        "        self.out = nn.Linear(self.hidden_dim, n_classes)\r\n",
        "        self.sigmoid = nn.Sigmoid()\r\n",
        "        \r\n",
        "\r\n",
        "    def forward(self, x):\r\n",
        "        x = self.embed(x)\r\n",
        "        h_0 = self._init_state(batch_size=x.size(0)) # 첫번째 히든 스테이트를 0벡터로 초기화\r\n",
        "        x, _ = self.gru(x, h_0)  # GRU의 리턴값은 (배치 크기, 시퀀스 길이, 은닉 상태의 크기)\r\n",
        "        h_t = x[:,-1,:] # (배치 크기, 은닉 상태의 크기)의 텐서로 크기가 변경됨. 즉, 마지막 time-step의 은닉 상태만 가져온다.\r\n",
        "        self.dropout(h_t)\r\n",
        "        logit = self.sigmoid(self.out(h_t))  # (배치 크기, 은닉 상태의 크기) -> (배치 크기, 출력층의 크기)\r\n",
        "\r\n",
        "        return logit\r\n",
        "\r\n",
        "    def _init_state(self, batch_size=1):\r\n",
        "        weight = next(self.parameters()).data\r\n",
        "        return weight.new(self.n_layers, batch_size, self.hidden_dim).zero_()\r\n",
        "\r\n",
        "\r\n",
        "model = GRU(args.n_layers, args.hidden_dim, vocab_size, args.embbed_dim, args.n_classes, args.dropout_p)\r\n",
        "print(model)"
      ],
      "execution_count": null,
      "outputs": [
        {
          "output_type": "stream",
          "text": [
            "GRU(\n",
            "  (embed): Embedding(150000, 64)\n",
            "  (dropout): Dropout(p=0.2, inplace=False)\n",
            "  (gru): GRU(64, 64, batch_first=True)\n",
            "  (out): Linear(in_features=64, out_features=1, bias=True)\n",
            "  (sigmoid): Sigmoid()\n",
            ")\n"
          ],
          "name": "stdout"
        }
      ]
    },
    {
      "cell_type": "code",
      "metadata": {
        "id": "yDj_futA90xO"
      },
      "source": [
        "class LSTM(nn.Module):\r\n",
        "    def __init__(self, n_layers, hidden_dim, n_vocab, embed_dim, n_classes, dropout_p=0.2):\r\n",
        "        super(LSTM, self).__init__()\r\n",
        "        self.n_layers = n_layers\r\n",
        "        self.hidden_dim = hidden_dim\r\n",
        "\r\n",
        "        self.embed = nn.Embedding(n_vocab, embed_dim)\r\n",
        "        self.dropout = nn.Dropout(dropout_p)\r\n",
        "        self.lstm = nn.LSTM(embed_dim, self.hidden_dim,\r\n",
        "                          num_layers=self.n_layers,\r\n",
        "                          batch_first=True)\r\n",
        "        \r\n",
        "        self.out = nn.Linear(self.hidden_dim, n_classes)\r\n",
        "        self.sigmoid = nn.Sigmoid()\r\n",
        "        \r\n",
        "\r\n",
        "    def forward(self, x):\r\n",
        "        x = self.embed(x)\r\n",
        "        h_0 = self._init_state(batch_size=x.size(0)) # 첫번째 히든 스테이트를 0벡터로 초기화\r\n",
        "        c_0 = self._init_state(batch_size=x.size(0))\r\n",
        "        x, (h_out,_) = self.lstm(x, (c_0,h_0))  # GRU의 리턴값은 (배치 크기, 시퀀스 길이, 은닉 상태의 크기)\r\n",
        "        self.dropout(h_t)\r\n",
        "        logit = self.sigmoid(self.out(h_t))  # (배치 크기, 은닉 상태의 크기) -> (배치 크기, 출력층의 크기)\r\n",
        "\r\n",
        "        return logit\r\n",
        "\r\n",
        "    def _init_state(self, batch_size=1):\r\n",
        "        weight = next(self.parameters()).data\r\n",
        "        return weight.new(self.n_layers, batch_size, self.hidden_dim).zero_()\r\n",
        "\r\n"
      ],
      "execution_count": null,
      "outputs": []
    },
    {
      "cell_type": "markdown",
      "metadata": {
        "id": "kWXp9srMQCKf"
      },
      "source": [
        "# Training"
      ]
    },
    {
      "cell_type": "markdown",
      "metadata": {
        "id": "265XKn91YSqA"
      },
      "source": [
        "#### Ealry Stopping"
      ]
    },
    {
      "cell_type": "code",
      "metadata": {
        "id": "hkje8KoaX_F3"
      },
      "source": [
        "class EarlyStopping:\r\n",
        "    \"\"\"Early stops the training if validation loss doesn't improve after a given patience.\"\"\"\r\n",
        "\r\n",
        "    def __init__(self, patience=7, verbose=False):\r\n",
        "        \"\"\"\r\n",
        "        Args:\r\n",
        "            patience (int): How long to wait after last time validation loss improved.\r\n",
        "                            Default: 7\r\n",
        "            verbose (bool): If True, prints a message for each validation loss improvement. \r\n",
        "                            Default: False\r\n",
        "        \"\"\"\r\n",
        "        self.patience = patience\r\n",
        "        self.verbose = verbose\r\n",
        "        self.counter = 0\r\n",
        "        self.best_score = None\r\n",
        "        self.early_stop = False\r\n",
        "        self.val_loss_min = np.Inf\r\n",
        "\r\n",
        "    def __call__(self, val_loss, model):\r\n",
        "\r\n",
        "        score = -val_loss\r\n",
        "\r\n",
        "        if self.best_score is None:\r\n",
        "            self.best_score = score\r\n",
        "            self.save_checkpoint(val_loss, model)\r\n",
        "        elif score < self.best_score:\r\n",
        "            self.counter += 1\r\n",
        "            print(f'EarlyStopping counter: {self.counter} out of {self.patience}')\r\n",
        "            if self.counter >= self.patience:\r\n",
        "                self.early_stop = True\r\n",
        "        else:\r\n",
        "            self.best_score = score\r\n",
        "            self.save_checkpoint(val_loss, model)\r\n",
        "            self.counter = 0\r\n",
        "\r\n",
        "    def save_checkpoint(self, val_loss, model):\r\n",
        "        '''Saves model when validation loss decrease.'''\r\n",
        "        if self.verbose:\r\n",
        "            print(\r\n",
        "                f'Validation loss decreased ({self.val_loss_min:.6f} --> {val_loss:.6f}).  Saving model ...')\r\n",
        "        torch.save(model.state_dict(), 'checkpoint.pt')\r\n",
        "        self.val_loss_min = val_loss"
      ],
      "execution_count": null,
      "outputs": []
    },
    {
      "cell_type": "markdown",
      "metadata": {
        "id": "QM57WxMHZAgF"
      },
      "source": [
        "#### Train"
      ]
    },
    {
      "cell_type": "code",
      "metadata": {
        "id": "L8T-1eLgZ7_f"
      },
      "source": [
        "earlystop = EarlyStopping(patience=args.patience, verbose=True)"
      ],
      "execution_count": null,
      "outputs": []
    },
    {
      "cell_type": "code",
      "metadata": {
        "colab": {
          "base_uri": "https://localhost:8080/",
          "height": 520
        },
        "id": "W2N_9jriQByL",
        "outputId": "4d92173b-cac9-47dd-9cf9-a510b620859d"
      },
      "source": [
        "model_path = '/content/drive/MyDrive/models'\r\n",
        "optimizer = optimizer = torch.optim.Adam(model.parameters(), lr=args.lr)\r\n",
        "criterion = nn.BCELoss()\r\n",
        "\r\n",
        "model.to(device)\r\n",
        "train_losses=[]\r\n",
        "val_losses = []\r\n",
        "val_accuracies = []\r\n",
        "avg_losses=[]\r\n",
        "total_loss = 0\r\n",
        "\r\n",
        "for epoch in range(args.epochs):\r\n",
        "\r\n",
        "    model.train()\r\n",
        "    for idx, batch in enumerate(train_loader):\r\n",
        "\r\n",
        "        text = batch[0].to(torch.int64).to(device)\r\n",
        "        label = batch[1].to(device).type(torch.float).unsqueeze(1)\r\n",
        "        optimizer.zero_grad()\r\n",
        "\r\n",
        "        output = model(text)\r\n",
        "        loss = criterion(output,label)\r\n",
        "        loss.backward()\r\n",
        "        optimizer.step()\r\n",
        "\r\n",
        "        if idx % 1000 == 0:\r\n",
        "            print('Batch: %d      Loss: %5.5f' % (idx,loss))\r\n",
        "\r\n",
        "    model.eval()\r\n",
        "    corrects,val_loss = 0, 0\r\n",
        "    for idx,batch in enumerate(eval_loader):\r\n",
        "        \r\n",
        "        text = batch[0].to(torch.int64).to(device)\r\n",
        "        label = batch[1].to(device).type(torch.float).unsqueeze(1)\r\n",
        "        \r\n",
        "        output = model(text)\r\n",
        "        val_loss = criterion(output, label)\r\n",
        "        total_loss += val_loss.item()\r\n",
        "        corrects += (output.max(1)[1].view(label.size()).data == label.data).sum()\r\n",
        "\r\n",
        "    train_losses.append(loss)\r\n",
        "    val_losses.append(val_loss)\r\n",
        "        \r\n",
        "    size = len(eval_loader.dataset)\r\n",
        "    avg_loss = total_loss / size\r\n",
        "    avg_losses.append(avg_loss)\r\n",
        "    avg_accuracy = 100.0 * corrects / size\r\n",
        "    print(\"===== epoch: %d   validation_avg_loss: %5.6f     validation_avg_accuracy:%5.2f ======\" % (epoch,avg_loss,avg_accuracy))\r\n",
        "\r\n",
        "    torch.save(model.state_dict(), '/content/drive/MyDrive/models/review sentiment analysis/txtclassification.pt')\r\n",
        "\r\n"
      ],
      "execution_count": null,
      "outputs": [
        {
          "output_type": "stream",
          "text": [
            "Batch: 0      Loss: 0.69424\n",
            "Batch: 1000      Loss: 0.41095\n",
            "===== epoch: 0   validation_avg_loss: 0.003200     validation_avg_accuracy:49.81 ======\n",
            "Batch: 0      Loss: 0.37406\n",
            "Batch: 1000      Loss: 0.36227\n",
            "===== epoch: 1   validation_avg_loss: 0.006130     validation_avg_accuracy:49.81 ======\n",
            "Batch: 0      Loss: 0.25928\n"
          ],
          "name": "stdout"
        },
        {
          "output_type": "error",
          "ename": "KeyboardInterrupt",
          "evalue": "ignored",
          "traceback": [
            "\u001b[0;31m---------------------------------------------------------------------------\u001b[0m",
            "\u001b[0;31mKeyboardInterrupt\u001b[0m                         Traceback (most recent call last)",
            "\u001b[0;32m<ipython-input-78-b7f04326b14b>\u001b[0m in \u001b[0;36m<module>\u001b[0;34m()\u001b[0m\n\u001b[1;32m     22\u001b[0m         \u001b[0mloss\u001b[0m \u001b[0;34m=\u001b[0m \u001b[0mcriterion\u001b[0m\u001b[0;34m(\u001b[0m\u001b[0moutput\u001b[0m\u001b[0;34m,\u001b[0m\u001b[0mlabel\u001b[0m\u001b[0;34m)\u001b[0m\u001b[0;34m\u001b[0m\u001b[0;34m\u001b[0m\u001b[0m\n\u001b[1;32m     23\u001b[0m         \u001b[0mloss\u001b[0m\u001b[0;34m.\u001b[0m\u001b[0mbackward\u001b[0m\u001b[0;34m(\u001b[0m\u001b[0;34m)\u001b[0m\u001b[0;34m\u001b[0m\u001b[0;34m\u001b[0m\u001b[0m\n\u001b[0;32m---> 24\u001b[0;31m         \u001b[0moptimizer\u001b[0m\u001b[0;34m.\u001b[0m\u001b[0mstep\u001b[0m\u001b[0;34m(\u001b[0m\u001b[0;34m)\u001b[0m\u001b[0;34m\u001b[0m\u001b[0;34m\u001b[0m\u001b[0m\n\u001b[0m\u001b[1;32m     25\u001b[0m \u001b[0;34m\u001b[0m\u001b[0m\n\u001b[1;32m     26\u001b[0m         \u001b[0;32mif\u001b[0m \u001b[0midx\u001b[0m \u001b[0;34m%\u001b[0m \u001b[0;36m1000\u001b[0m \u001b[0;34m==\u001b[0m \u001b[0;36m0\u001b[0m\u001b[0;34m:\u001b[0m\u001b[0;34m\u001b[0m\u001b[0;34m\u001b[0m\u001b[0m\n",
            "\u001b[0;32m/usr/local/lib/python3.6/dist-packages/torch/autograd/grad_mode.py\u001b[0m in \u001b[0;36mdecorate_context\u001b[0;34m(*args, **kwargs)\u001b[0m\n\u001b[1;32m     24\u001b[0m         \u001b[0;32mdef\u001b[0m \u001b[0mdecorate_context\u001b[0m\u001b[0;34m(\u001b[0m\u001b[0;34m*\u001b[0m\u001b[0margs\u001b[0m\u001b[0;34m,\u001b[0m \u001b[0;34m**\u001b[0m\u001b[0mkwargs\u001b[0m\u001b[0;34m)\u001b[0m\u001b[0;34m:\u001b[0m\u001b[0;34m\u001b[0m\u001b[0;34m\u001b[0m\u001b[0m\n\u001b[1;32m     25\u001b[0m             \u001b[0;32mwith\u001b[0m \u001b[0mself\u001b[0m\u001b[0;34m.\u001b[0m\u001b[0m__class__\u001b[0m\u001b[0;34m(\u001b[0m\u001b[0;34m)\u001b[0m\u001b[0;34m:\u001b[0m\u001b[0;34m\u001b[0m\u001b[0;34m\u001b[0m\u001b[0m\n\u001b[0;32m---> 26\u001b[0;31m                 \u001b[0;32mreturn\u001b[0m \u001b[0mfunc\u001b[0m\u001b[0;34m(\u001b[0m\u001b[0;34m*\u001b[0m\u001b[0margs\u001b[0m\u001b[0;34m,\u001b[0m \u001b[0;34m**\u001b[0m\u001b[0mkwargs\u001b[0m\u001b[0;34m)\u001b[0m\u001b[0;34m\u001b[0m\u001b[0;34m\u001b[0m\u001b[0m\n\u001b[0m\u001b[1;32m     27\u001b[0m         \u001b[0;32mreturn\u001b[0m \u001b[0mcast\u001b[0m\u001b[0;34m(\u001b[0m\u001b[0mF\u001b[0m\u001b[0;34m,\u001b[0m \u001b[0mdecorate_context\u001b[0m\u001b[0;34m)\u001b[0m\u001b[0;34m\u001b[0m\u001b[0;34m\u001b[0m\u001b[0m\n\u001b[1;32m     28\u001b[0m \u001b[0;34m\u001b[0m\u001b[0m\n",
            "\u001b[0;32m/usr/local/lib/python3.6/dist-packages/torch/optim/adam.py\u001b[0m in \u001b[0;36mstep\u001b[0;34m(self, closure)\u001b[0m\n\u001b[1;32m    117\u001b[0m                    \u001b[0mgroup\u001b[0m\u001b[0;34m[\u001b[0m\u001b[0;34m'lr'\u001b[0m\u001b[0;34m]\u001b[0m\u001b[0;34m,\u001b[0m\u001b[0;34m\u001b[0m\u001b[0;34m\u001b[0m\u001b[0m\n\u001b[1;32m    118\u001b[0m                    \u001b[0mgroup\u001b[0m\u001b[0;34m[\u001b[0m\u001b[0;34m'weight_decay'\u001b[0m\u001b[0;34m]\u001b[0m\u001b[0;34m,\u001b[0m\u001b[0;34m\u001b[0m\u001b[0;34m\u001b[0m\u001b[0m\n\u001b[0;32m--> 119\u001b[0;31m                    \u001b[0mgroup\u001b[0m\u001b[0;34m[\u001b[0m\u001b[0;34m'eps'\u001b[0m\u001b[0;34m]\u001b[0m\u001b[0;34m\u001b[0m\u001b[0;34m\u001b[0m\u001b[0m\n\u001b[0m\u001b[1;32m    120\u001b[0m                    )\n\u001b[1;32m    121\u001b[0m         \u001b[0;32mreturn\u001b[0m \u001b[0mloss\u001b[0m\u001b[0;34m\u001b[0m\u001b[0;34m\u001b[0m\u001b[0m\n",
            "\u001b[0;32m/usr/local/lib/python3.6/dist-packages/torch/optim/functional.py\u001b[0m in \u001b[0;36madam\u001b[0;34m(params, grads, exp_avgs, exp_avg_sqs, max_exp_avg_sqs, state_steps, amsgrad, beta1, beta2, lr, weight_decay, eps)\u001b[0m\n\u001b[1;32m     84\u001b[0m \u001b[0;34m\u001b[0m\u001b[0m\n\u001b[1;32m     85\u001b[0m         \u001b[0;31m# Decay the first and second moment running average coefficient\u001b[0m\u001b[0;34m\u001b[0m\u001b[0;34m\u001b[0m\u001b[0;34m\u001b[0m\u001b[0m\n\u001b[0;32m---> 86\u001b[0;31m         \u001b[0mexp_avg\u001b[0m\u001b[0;34m.\u001b[0m\u001b[0mmul_\u001b[0m\u001b[0;34m(\u001b[0m\u001b[0mbeta1\u001b[0m\u001b[0;34m)\u001b[0m\u001b[0;34m.\u001b[0m\u001b[0madd_\u001b[0m\u001b[0;34m(\u001b[0m\u001b[0mgrad\u001b[0m\u001b[0;34m,\u001b[0m \u001b[0malpha\u001b[0m\u001b[0;34m=\u001b[0m\u001b[0;36m1\u001b[0m \u001b[0;34m-\u001b[0m \u001b[0mbeta1\u001b[0m\u001b[0;34m)\u001b[0m\u001b[0;34m\u001b[0m\u001b[0;34m\u001b[0m\u001b[0m\n\u001b[0m\u001b[1;32m     87\u001b[0m         \u001b[0mexp_avg_sq\u001b[0m\u001b[0;34m.\u001b[0m\u001b[0mmul_\u001b[0m\u001b[0;34m(\u001b[0m\u001b[0mbeta2\u001b[0m\u001b[0;34m)\u001b[0m\u001b[0;34m.\u001b[0m\u001b[0maddcmul_\u001b[0m\u001b[0;34m(\u001b[0m\u001b[0mgrad\u001b[0m\u001b[0;34m,\u001b[0m \u001b[0mgrad\u001b[0m\u001b[0;34m,\u001b[0m \u001b[0mvalue\u001b[0m\u001b[0;34m=\u001b[0m\u001b[0;36m1\u001b[0m \u001b[0;34m-\u001b[0m \u001b[0mbeta2\u001b[0m\u001b[0;34m)\u001b[0m\u001b[0;34m\u001b[0m\u001b[0;34m\u001b[0m\u001b[0m\n\u001b[1;32m     88\u001b[0m         \u001b[0;32mif\u001b[0m \u001b[0mamsgrad\u001b[0m\u001b[0;34m:\u001b[0m\u001b[0;34m\u001b[0m\u001b[0;34m\u001b[0m\u001b[0m\n",
            "\u001b[0;31mKeyboardInterrupt\u001b[0m: "
          ]
        }
      ]
    },
    {
      "cell_type": "code",
      "metadata": {
        "id": "uKp7kKPlji-q",
        "colab": {
          "base_uri": "https://localhost:8080/",
          "height": 265
        },
        "outputId": "ac7281b5-874f-4948-bb99-2625c312bff2"
      },
      "source": [
        "plt.plot(train_losses)\r\n",
        "plt.plot(val_losses)\r\n",
        "plt.show()"
      ],
      "execution_count": null,
      "outputs": [
        {
          "output_type": "display_data",
          "data": {
            "image/png": "[encoded data removed]",
            "text/plain": [
              "<Figure size 432x288 with 1 Axes>"
            ]
          },
          "metadata": {
            "tags": [],
            "needs_background": "light"
          }
        }
      ]
    },
    {
      "cell_type": "markdown",
      "metadata": {
        "id": "GqWRJeM-k2zW"
      },
      "source": [
        "# Test"
      ]
    },
    {
      "cell_type": "code",
      "metadata": {
        "colab": {
          "base_uri": "https://localhost:8080/"
        },
        "id": "kL8NJ9G6ptCF",
        "outputId": "7a6d5c11-ecfd-4968-8e22-66c1bb1f0141"
      },
      "source": [
        ""
      ],
      "execution_count": null,
      "outputs": [
        {
          "output_type": "execute_result",
          "data": {
            "text/plain": [
              "1"
            ]
          },
          "metadata": {
            "tags": []
          },
          "execution_count": 49
        }
      ]
    },
    {
      "cell_type": "code",
      "metadata": {
        "id": "zAOQGP03l_YW",
        "colab": {
          "base_uri": "https://localhost:8080/",
          "height": 952
        },
        "outputId": "20a7c758-27e3-40dd-f431-183281df7d49"
      },
      "source": [
        "model_load_path = '/content/drive/MyDrive/models/review sentiment analysis/txtclassification.pt'\r\n",
        "model.load_state_dict(torch.load(model_load_path))\r\n",
        "\r\n",
        "model.eval()\r\n",
        "corrects,val_loss = 0, 0\r\n",
        "for idx,batch in enumerate(zip(test_loader.dataset.data,test_loader.dataset.target)):\r\n",
        "    \r\n",
        "    text = torch.Tensor(batch[0]).to(torch.int64).to(device).unsqueeze(1)\r\n",
        "    print(text)\r\n",
        "    label = torch.Tensor(batch[1]).to(torch.int64).to(device)\r\n",
        "    print(label)\r\n",
        "    \r\n",
        "    #label = torch.ensor(batch[1]).to(device)\r\n",
        "        \r\n",
        "    output = model(text)\r\n",
        "    val_loss = criterion(output, label)\r\n",
        "    total_loss += val_loss.item()\r\n",
        "    corrects += (output.max(1)[1].view(label.size()).data == label.data).sum()"
      ],
      "execution_count": null,
      "outputs": [
        {
          "output_type": "stream",
          "text": [
            "tensor([[  48],\n",
            "        [   1],\n",
            "        [ 713],\n",
            "        [4303],\n",
            "        [2426],\n",
            "        [   0],\n",
            "        [   0],\n",
            "        [   0],\n",
            "        [   0],\n",
            "        [   0],\n",
            "        [   0],\n",
            "        [   0],\n",
            "        [   0],\n",
            "        [   0],\n",
            "        [   0],\n",
            "        [   0],\n",
            "        [   0],\n",
            "        [   0],\n",
            "        [   0],\n",
            "        [   0],\n",
            "        [   0],\n",
            "        [   0],\n",
            "        [   0],\n",
            "        [   0],\n",
            "        [   0],\n",
            "        [   0],\n",
            "        [   0],\n",
            "        [   0],\n",
            "        [   0],\n",
            "        [   0]])\n",
            "tensor([0])\n"
          ],
          "name": "stdout"
        },
        {
          "output_type": "error",
          "ename": "ValueError",
          "evalue": "ignored",
          "traceback": [
            "\u001b[0;31m---------------------------------------------------------------------------\u001b[0m",
            "\u001b[0;31mValueError\u001b[0m                                Traceback (most recent call last)",
            "\u001b[0;32m<ipython-input-53-ed9e9e55c4d0>\u001b[0m in \u001b[0;36m<module>\u001b[0;34m()\u001b[0m\n\u001b[1;32m     14\u001b[0m \u001b[0;34m\u001b[0m\u001b[0m\n\u001b[1;32m     15\u001b[0m     \u001b[0moutput\u001b[0m \u001b[0;34m=\u001b[0m \u001b[0mmodel\u001b[0m\u001b[0;34m(\u001b[0m\u001b[0mtext\u001b[0m\u001b[0;34m)\u001b[0m\u001b[0;34m\u001b[0m\u001b[0;34m\u001b[0m\u001b[0m\n\u001b[0;32m---> 16\u001b[0;31m     \u001b[0mval_loss\u001b[0m \u001b[0;34m=\u001b[0m \u001b[0mcriterion\u001b[0m\u001b[0;34m(\u001b[0m\u001b[0moutput\u001b[0m\u001b[0;34m,\u001b[0m \u001b[0mlabel\u001b[0m\u001b[0;34m)\u001b[0m\u001b[0;34m\u001b[0m\u001b[0;34m\u001b[0m\u001b[0m\n\u001b[0m\u001b[1;32m     17\u001b[0m     \u001b[0mtotal_loss\u001b[0m \u001b[0;34m+=\u001b[0m \u001b[0mval_loss\u001b[0m\u001b[0;34m.\u001b[0m\u001b[0mitem\u001b[0m\u001b[0;34m(\u001b[0m\u001b[0;34m)\u001b[0m\u001b[0;34m\u001b[0m\u001b[0;34m\u001b[0m\u001b[0m\n\u001b[1;32m     18\u001b[0m     \u001b[0mcorrects\u001b[0m \u001b[0;34m+=\u001b[0m \u001b[0;34m(\u001b[0m\u001b[0moutput\u001b[0m\u001b[0;34m.\u001b[0m\u001b[0mmax\u001b[0m\u001b[0;34m(\u001b[0m\u001b[0;36m1\u001b[0m\u001b[0;34m)\u001b[0m\u001b[0;34m[\u001b[0m\u001b[0;36m1\u001b[0m\u001b[0;34m]\u001b[0m\u001b[0;34m.\u001b[0m\u001b[0mview\u001b[0m\u001b[0;34m(\u001b[0m\u001b[0mlabel\u001b[0m\u001b[0;34m.\u001b[0m\u001b[0msize\u001b[0m\u001b[0;34m(\u001b[0m\u001b[0;34m)\u001b[0m\u001b[0;34m)\u001b[0m\u001b[0;34m.\u001b[0m\u001b[0mdata\u001b[0m \u001b[0;34m==\u001b[0m \u001b[0mlabel\u001b[0m\u001b[0;34m.\u001b[0m\u001b[0mdata\u001b[0m\u001b[0;34m)\u001b[0m\u001b[0;34m.\u001b[0m\u001b[0msum\u001b[0m\u001b[0;34m(\u001b[0m\u001b[0;34m)\u001b[0m\u001b[0;34m\u001b[0m\u001b[0;34m\u001b[0m\u001b[0m\n",
            "\u001b[0;32m/usr/local/lib/python3.6/dist-packages/torch/nn/modules/module.py\u001b[0m in \u001b[0;36m_call_impl\u001b[0;34m(self, *input, **kwargs)\u001b[0m\n\u001b[1;32m    725\u001b[0m             \u001b[0mresult\u001b[0m \u001b[0;34m=\u001b[0m \u001b[0mself\u001b[0m\u001b[0;34m.\u001b[0m\u001b[0m_slow_forward\u001b[0m\u001b[0;34m(\u001b[0m\u001b[0;34m*\u001b[0m\u001b[0minput\u001b[0m\u001b[0;34m,\u001b[0m \u001b[0;34m**\u001b[0m\u001b[0mkwargs\u001b[0m\u001b[0;34m)\u001b[0m\u001b[0;34m\u001b[0m\u001b[0;34m\u001b[0m\u001b[0m\n\u001b[1;32m    726\u001b[0m         \u001b[0;32melse\u001b[0m\u001b[0;34m:\u001b[0m\u001b[0;34m\u001b[0m\u001b[0;34m\u001b[0m\u001b[0m\n\u001b[0;32m--> 727\u001b[0;31m             \u001b[0mresult\u001b[0m \u001b[0;34m=\u001b[0m \u001b[0mself\u001b[0m\u001b[0;34m.\u001b[0m\u001b[0mforward\u001b[0m\u001b[0;34m(\u001b[0m\u001b[0;34m*\u001b[0m\u001b[0minput\u001b[0m\u001b[0;34m,\u001b[0m \u001b[0;34m**\u001b[0m\u001b[0mkwargs\u001b[0m\u001b[0;34m)\u001b[0m\u001b[0;34m\u001b[0m\u001b[0;34m\u001b[0m\u001b[0m\n\u001b[0m\u001b[1;32m    728\u001b[0m         for hook in itertools.chain(\n\u001b[1;32m    729\u001b[0m                 \u001b[0m_global_forward_hooks\u001b[0m\u001b[0;34m.\u001b[0m\u001b[0mvalues\u001b[0m\u001b[0;34m(\u001b[0m\u001b[0;34m)\u001b[0m\u001b[0;34m,\u001b[0m\u001b[0;34m\u001b[0m\u001b[0;34m\u001b[0m\u001b[0m\n",
            "\u001b[0;32m/usr/local/lib/python3.6/dist-packages/torch/nn/modules/loss.py\u001b[0m in \u001b[0;36mforward\u001b[0;34m(self, input, target)\u001b[0m\n\u001b[1;32m    528\u001b[0m \u001b[0;34m\u001b[0m\u001b[0m\n\u001b[1;32m    529\u001b[0m     \u001b[0;32mdef\u001b[0m \u001b[0mforward\u001b[0m\u001b[0;34m(\u001b[0m\u001b[0mself\u001b[0m\u001b[0;34m,\u001b[0m \u001b[0minput\u001b[0m\u001b[0;34m:\u001b[0m \u001b[0mTensor\u001b[0m\u001b[0;34m,\u001b[0m \u001b[0mtarget\u001b[0m\u001b[0;34m:\u001b[0m \u001b[0mTensor\u001b[0m\u001b[0;34m)\u001b[0m \u001b[0;34m->\u001b[0m \u001b[0mTensor\u001b[0m\u001b[0;34m:\u001b[0m\u001b[0;34m\u001b[0m\u001b[0;34m\u001b[0m\u001b[0m\n\u001b[0;32m--> 530\u001b[0;31m         \u001b[0;32mreturn\u001b[0m \u001b[0mF\u001b[0m\u001b[0;34m.\u001b[0m\u001b[0mbinary_cross_entropy\u001b[0m\u001b[0;34m(\u001b[0m\u001b[0minput\u001b[0m\u001b[0;34m,\u001b[0m \u001b[0mtarget\u001b[0m\u001b[0;34m,\u001b[0m \u001b[0mweight\u001b[0m\u001b[0;34m=\u001b[0m\u001b[0mself\u001b[0m\u001b[0;34m.\u001b[0m\u001b[0mweight\u001b[0m\u001b[0;34m,\u001b[0m \u001b[0mreduction\u001b[0m\u001b[0;34m=\u001b[0m\u001b[0mself\u001b[0m\u001b[0;34m.\u001b[0m\u001b[0mreduction\u001b[0m\u001b[0;34m)\u001b[0m\u001b[0;34m\u001b[0m\u001b[0;34m\u001b[0m\u001b[0m\n\u001b[0m\u001b[1;32m    531\u001b[0m \u001b[0;34m\u001b[0m\u001b[0m\n\u001b[1;32m    532\u001b[0m \u001b[0;34m\u001b[0m\u001b[0m\n",
            "\u001b[0;32m/usr/local/lib/python3.6/dist-packages/torch/nn/functional.py\u001b[0m in \u001b[0;36mbinary_cross_entropy\u001b[0;34m(input, target, weight, size_average, reduce, reduction)\u001b[0m\n\u001b[1;32m   2517\u001b[0m     \u001b[0;32mif\u001b[0m \u001b[0mtarget\u001b[0m\u001b[0;34m.\u001b[0m\u001b[0msize\u001b[0m\u001b[0;34m(\u001b[0m\u001b[0;34m)\u001b[0m \u001b[0;34m!=\u001b[0m \u001b[0minput\u001b[0m\u001b[0;34m.\u001b[0m\u001b[0msize\u001b[0m\u001b[0;34m(\u001b[0m\u001b[0;34m)\u001b[0m\u001b[0;34m:\u001b[0m\u001b[0;34m\u001b[0m\u001b[0;34m\u001b[0m\u001b[0m\n\u001b[1;32m   2518\u001b[0m         raise ValueError(\"Using a target size ({}) that is different to the input size ({}) is deprecated. \"\n\u001b[0;32m-> 2519\u001b[0;31m                          \"Please ensure they have the same size.\".format(target.size(), input.size()))\n\u001b[0m\u001b[1;32m   2520\u001b[0m \u001b[0;34m\u001b[0m\u001b[0m\n\u001b[1;32m   2521\u001b[0m     \u001b[0;32mif\u001b[0m \u001b[0mweight\u001b[0m \u001b[0;32mis\u001b[0m \u001b[0;32mnot\u001b[0m \u001b[0;32mNone\u001b[0m\u001b[0;34m:\u001b[0m\u001b[0;34m\u001b[0m\u001b[0;34m\u001b[0m\u001b[0m\n",
            "\u001b[0;31mValueError\u001b[0m: Using a target size (torch.Size([1])) that is different to the input size (torch.Size([30, 1])) is deprecated. Please ensure they have the same size."
          ]
        }
      ]
    },
    {
      "cell_type": "code",
      "metadata": {
        "id": "tB37OIrwpZRi"
      },
      "source": [
        "\r\n",
        "def load_checkpoint(filepath):\r\n",
        "    model.load_state_dict(torch.load(filepath))\r\n",
        "    for parameter in model.parameters():\r\n",
        "        parameter.requires_grad = False\r\n",
        "\r\n",
        "    model.eval()\r\n",
        "    return model\r\n",
        "\r\n",
        "model = load_checkpoint(model_load_path)"
      ],
      "execution_count": null,
      "outputs": []
    },
    {
      "cell_type": "code",
      "metadata": {
        "id": "pUXjP6Bgk2i_",
        "colab": {
          "base_uri": "https://localhost:8080/"
        },
        "outputId": "f24c66a3-fb3c-4bdf-813c-da0c22698397"
      },
      "source": [
        "def sentiment_predict(model,new_sentence):\r\n",
        "  new_sentence = tok.morphs(new_sentence) # 토큰화\r\n",
        "  encoded = tokenizer.texts_to_sequences(new_sentence) # 정수 인코딩\r\n",
        "  encoded = [[x[0] for x in encoded]]\r\n",
        "  pad_new = pad_sequences(encoded, maxlen = max_len,padding='post') # 패딩\r\n",
        "  pad_new = torch.FloatTensor(pad_new).to(torch.int64).to(device)\r\n",
        "\r\n",
        "  print(pad_new)\r\n",
        "  score = model(pad_new) # 예측\r\n",
        "  score = score.item()\r\n",
        "  print(score)\r\n",
        "  if(score > 0.5):\r\n",
        "    print(\"{:.2f}% 확률로 긍정 리뷰입니다.\\n\".format(score * 100))\r\n",
        "  else:\r\n",
        "    print(\"{:.2f}% 확률로 부정 리뷰입니다.\\n\".format((1 - score) * 100))\r\n",
        "\r\n",
        "\r\n",
        "textin = '이 영화 노잼'\r\n",
        "sentiment_predict(model,textin)"
      ],
      "execution_count": null,
      "outputs": [
        {
          "output_type": "stream",
          "text": [
            "tensor([[  1,   2, 323,   0,   0,   0,   0,   0,   0,   0,   0,   0,   0,   0,\n",
            "           0,   0,   0,   0,   0,   0,   0,   0,   0,   0,   0,   0,   0,   0,\n",
            "           0,   0]])\n",
            "0.006152578163892031\n",
            "99.38% 확률로 부정 리뷰입니다.\n",
            "\n"
          ],
          "name": "stdout"
        }
      ]
    }
  ]
}